{
 "cells": [
  {
   "cell_type": "markdown",
   "id": "319d0a31",
   "metadata": {},
   "source": [
    "## 1.1 Packages & Libraries"
   ]
  },
  {
   "cell_type": "code",
   "execution_count": 145,
   "id": "4a992eaf",
   "metadata": {
    "scrolled": true
   },
   "outputs": [],
   "source": [
    "#!pip install split-folders\n",
    "#!pip install pydot\n",
    "#!pip install graphviz\n",
    "#!pip install keras\n",
    "#!pip install visualkeras\n",
    "\n",
    "import numpy as np\n",
    "import os\n",
    "import glob\n",
    "import pandas as pd\n",
    "import cv2\n",
    "from tqdm import tqdm\n",
    "import io\n",
    "import tensorflow.keras\n",
    "import sklearn\n",
    "import pydot\n",
    "import graphviz\n",
    "import torch\n",
    "import torch.nn as nn\n",
    "import torch.nn.functional as F\n",
    "from torch import optim\n",
    "from torch.optim.lr_scheduler import StepLR\n",
    "\n",
    "import seaborn as sns\n",
    "import matplotlib.pyplot as plt\n",
    "import tensorflow as tf\n",
    "import visualkeras\n",
    "\n",
    "from sklearn.utils import shuffle\n",
    "from tensorflow.keras.utils import to_categorical\n",
    "from tensorflow.keras import Model\n",
    "from tensorflow.keras.layers import Conv2D, MaxPooling2D, Flatten, BatchNormalization, Dropout, Dense, Activation\n",
    "from tensorflow.keras.models import Sequential, load_model\n",
    "from tensorflow.keras.preprocessing.image import ImageDataGenerator\n",
    "from PIL import Image\n",
    "from sklearn.metrics import classification_report, confusion_matrix\n",
    "import IPython\n",
    "import scikitplot as skplt"
   ]
  },
  {
   "cell_type": "markdown",
   "id": "baca6a56",
   "metadata": {},
   "source": [
    "## 1.2 Specify a classification class"
   ]
  },
  {
   "cell_type": "code",
   "execution_count": 146,
   "id": "23dfbc6a",
   "metadata": {},
   "outputs": [],
   "source": [
    "categories = ['glioma', 'meningioma', 'notumor', 'pituitary']"
   ]
  },
  {
   "cell_type": "markdown",
   "id": "3561cb60",
   "metadata": {},
   "source": [
    "## 1.3 Data Split (training:test = 8:2)"
   ]
  },
  {
   "cell_type": "code",
   "execution_count": null,
   "id": "0c2722b8",
   "metadata": {},
   "outputs": [],
   "source": [
    "#import splitfolders\n",
    "#splitfolders.ratio(\"C:/archive/Training\", output=\"C:/archive/Out\", seed=1234, ratio=(.8, .2))"
   ]
  },
  {
   "cell_type": "markdown",
   "id": "07d4d029",
   "metadata": {},
   "source": [
    "## 1.4.1 Building 'ImageDataGenerator(IDG)'"
   ]
  },
  {
   "cell_type": "code",
   "execution_count": 41,
   "id": "82db95cd",
   "metadata": {},
   "outputs": [
    {
     "name": "stderr",
     "output_type": "stream",
     "text": [
      "Copying files: 5712 files [00:23, 243.57 files/s]\n"
     ]
    }
   ],
   "source": [
    "train_datagen = tf.keras.preprocessing.image.ImageDataGenerator(\n",
    "    rescale=1./255 # rescale\n",
    ")\n",
    "\n",
    "validation_datagen = tf.keras.preprocessing.image.ImageDataGenerator(\n",
    "     rescale=1./255) # rescale\n",
    "\n",
    "test_datagen = tf.keras.preprocessing.image.ImageDataGenerator(\n",
    "     rescale=1./255) # rescale"
   ]
  },
  {
   "cell_type": "markdown",
   "id": "115e2c0a",
   "metadata": {},
   "source": [
    "## 1.4.2 Apply IDG by data set"
   ]
  },
  {
   "cell_type": "code",
   "execution_count": 212,
   "id": "51f3f01f",
   "metadata": {},
   "outputs": [
    {
     "name": "stdout",
     "output_type": "stream",
     "text": [
      "Found 4568 images belonging to 4 classes.\n",
      "Found 1144 images belonging to 4 classes.\n",
      "Found 1311 images belonging to 4 classes.\n"
     ]
    }
   ],
   "source": [
    "train_dir = \"C:/archive/Train\"\n",
    "validation_dir = \"C:/archive/Validation\"\n",
    "test_dir = \"C:/archive/Test\"\n",
    "\n",
    "train_generator = train_datagen.flow_from_directory(\n",
    "        # 타겟 디렉터리\n",
    "        train_dir,\n",
    "        target_size =(150, 150),\n",
    "        batch_size=15,\n",
    "        class_mode='categorical') #주어진 데이터는 4개의 클래스가 있으므로 'categorical'\n",
    "\n",
    "validation_generator = validation_datagen.flow_from_directory(\n",
    "        # 타겟 디렉터리\n",
    "        validation_dir,\n",
    "        target_size =(150, 150),\n",
    "        batch_size=15,\n",
    "        class_mode='categorical') #주어진 데이터는 4개의 클래스가 있으므로 'categorical'\n",
    "\n",
    "test_generator = test_datagen.flow_from_directory(\n",
    "        # 타겟 디렉터리\n",
    "        test_dir,\n",
    "        target_size =(150, 150),\n",
    "        batch_size=15,\n",
    "        class_mode='categorical') #주어진 데이터는 4개의 클래스가 있으므로 'categorical'\n",
    "\n",
    "x_train, y_train = train_generator.next()\n",
    "x_validation, y_validation = validation_generator.next()\n",
    "x_test, y_test = test_generator.next()"
   ]
  },
  {
   "cell_type": "markdown",
   "id": "8eb498e2",
   "metadata": {},
   "source": [
    "## 3.6.1 'Mini-ResNet' Model<Br>\n",
    "Architecture: Conv-1 + identity Block(BasicBlock + short-cut) + GlobalAveragePooling + F.C layer "
   ]
  },
  {
   "cell_type": "code",
   "execution_count": 243,
   "id": "59264b03",
   "metadata": {},
   "outputs": [],
   "source": [
    "# 1.기본 블럭 설정\n",
    "class IdentityBlock(tf.keras.Model):\n",
    "    def __init__(self, filters, kernel_size):\n",
    "        super(IdentityBlock, self).__init__(name='')\n",
    "        \n",
    "        self.conv1 = tf.keras.layers.Conv2D(filters, kernel_size, padding='same')\n",
    "        self.bn1 = tf.keras.layers.BatchNormalization()\n",
    "        \n",
    "        self.conv2 = tf.keras.layers.Conv2D(filters, kernel_size, padding='same')\n",
    "        self.bn2 = tf.keras.layers.BatchNormalization()\n",
    "        \n",
    "        self.relu = tf.keras.layers.Activation('relu')\n",
    "        self.add = tf.keras.layers.Add()\n",
    "    \n",
    "    def call(self, inputs): # x 그대로 출력 후, F(x) + x 출력\n",
    "        x = self.conv1(inputs)\n",
    "        x = self.bn1(x)\n",
    "        x = self.relu(x)\n",
    "        \n",
    "        x = self.conv2(x)\n",
    "        x = self.bn2(x)\n",
    "        \n",
    "        x = self.add([x, inputs])\n",
    "        x = self.relu(x)\n",
    "        \n",
    "        return x"
   ]
  },
  {
   "cell_type": "code",
   "execution_count": 244,
   "id": "a0003fc0",
   "metadata": {},
   "outputs": [],
   "source": [
    "# 2.ResNet_구축\n",
    "\n",
    "class ResNet(tf.keras.Model):\n",
    "    def __init__(self, num_classes):\n",
    "        super(ResNet, self).__init__()\n",
    "        self.conv = tf.keras.layers.Conv2D(64, 7, padding='same')\n",
    "        self.bn = tf.keras.layers.BatchNormalization()\n",
    "        self.relu = tf.keras.layers.Activation('relu')\n",
    "        self.max_pool = tf.keras.layers.MaxPool2D((3, 3))\n",
    "        self.id1a = IdentityBlock(64, 3)\n",
    "        self.id1b = IdentityBlock(64, 3)\n",
    "        self.global_pool = tf.keras.layers.GlobalAveragePooling2D()\n",
    "        self.classifier = tf.keras.layers.Dense(num_classes, activation='softmax')\n",
    "    \n",
    "    def call(self, inputs):\n",
    "        x = self.conv(inputs)\n",
    "        x = self.bn(x)\n",
    "        x = self.relu(x)\n",
    "        x = self.max_pool(x)\n",
    "        \n",
    "        x = self.id1a(x)\n",
    "        x = self.id1b(x)\n",
    "        \n",
    "        x = self.global_pool(x)\n",
    "        return self.classifier(x)"
   ]
  },
  {
   "cell_type": "markdown",
   "id": "4c4cf449",
   "metadata": {},
   "source": [
    "## 3.6.2 'Mini-ResNet' Model evaluation"
   ]
  },
  {
   "cell_type": "code",
   "execution_count": 252,
   "id": "6f7d0e41",
   "metadata": {},
   "outputs": [
    {
     "name": "stdout",
     "output_type": "stream",
     "text": [
      "Epoch 1/10\n",
      "1/1 [==============================] - 3s 3s/step - loss: 1.4641 - acc: 0.3333\n",
      "Epoch 2/10\n",
      "1/1 [==============================] - 1s 904ms/step - loss: 0.7921 - acc: 0.7333\n",
      "Epoch 3/10\n",
      "1/1 [==============================] - 1s 925ms/step - loss: 0.6203 - acc: 0.7333\n",
      "Epoch 4/10\n",
      "1/1 [==============================] - 1s 978ms/step - loss: 0.5369 - acc: 0.8000\n",
      "Epoch 5/10\n",
      "1/1 [==============================] - 1s 886ms/step - loss: 0.4703 - acc: 0.9333\n",
      "Epoch 6/10\n",
      "1/1 [==============================] - 1s 1s/step - loss: 0.4190 - acc: 0.9333\n",
      "Epoch 7/10\n",
      "1/1 [==============================] - 1s 1s/step - loss: 0.3758 - acc: 0.9333\n",
      "Epoch 8/10\n",
      "1/1 [==============================] - 1s 921ms/step - loss: 0.3406 - acc: 0.9333\n",
      "Epoch 9/10\n",
      "1/1 [==============================] - 1s 1s/step - loss: 0.3111 - acc: 0.9333\n",
      "Epoch 10/10\n",
      "1/1 [==============================] - 1s 976ms/step - loss: 0.2849 - acc: 0.9333\n",
      "WARNING:tensorflow:6 out of the last 135 calls to <function Model.make_test_function.<locals>.test_function at 0x0000020EEF0C7790> triggered tf.function retracing. Tracing is expensive and the excessive number of tracings could be due to (1) creating @tf.function repeatedly in a loop, (2) passing tensors with different shapes, (3) passing Python objects instead of tensors. For (1), please define your @tf.function outside of the loop. For (2), @tf.function has reduce_retracing=True option that can avoid unnecessary retracing. For (3), please refer to https://www.tensorflow.org/guide/function#controlling_retracing and https://www.tensorflow.org/api_docs/python/tf/function for  more details.\n",
      "1/1 [==============================] - 1s 856ms/step - loss: 1.4901 - acc: 0.2000\n"
     ]
    },
    {
     "data": {
      "text/plain": [
       "[1.4901173114776611, 0.20000000298023224]"
      ]
     },
     "execution_count": 252,
     "metadata": {},
     "output_type": "execute_result"
    }
   ],
   "source": [
    "resnet = ResNet(4)\n",
    "resnet.compile(optimizer='adam', loss='categorical_crossentropy',\n",
    "               metrics=['acc'])\n",
    "resnet.fit(x_train, y_train, epochs=10)\n",
    "resnet.evaluate(x_test, y_test)"
   ]
  }
 ],
 "metadata": {
  "kernelspec": {
   "display_name": "Python 3 (ipykernel)",
   "language": "python",
   "name": "python3"
  },
  "language_info": {
   "codemirror_mode": {
    "name": "ipython",
    "version": 3
   },
   "file_extension": ".py",
   "mimetype": "text/x-python",
   "name": "python",
   "nbconvert_exporter": "python",
   "pygments_lexer": "ipython3",
   "version": "3.10.10"
  }
 },
 "nbformat": 4,
 "nbformat_minor": 5
}
